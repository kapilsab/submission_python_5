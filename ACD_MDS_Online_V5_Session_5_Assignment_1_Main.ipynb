{
 "cells": [
  {
   "cell_type": "code",
   "execution_count": 10,
   "metadata": {},
   "outputs": [
    {
     "name": "stdout",
     "output_type": "stream",
     "text": [
      "Error!!! in (div=i/j): division by zero\n"
     ]
    }
   ],
   "source": [
    "###################################### Session 5: Assignment 1 ############################################\n",
    "# \n",
    "# 1. Write a function to compute 5/0 and use try/except to catch the exceptions.\n",
    "#\n",
    "###########################################################################################################\n",
    "\n",
    "def divideFunc():\n",
    "    i = 5\n",
    "    j = 0\n",
    "\n",
    "    try:\n",
    "        div = i /j\n",
    "        print('Division is ', div)\n",
    "    except Exception as e:\n",
    "        print('Error!!! in (div=i/j):',e)\n",
    "    else:\n",
    "        print(\"Division Successful\")\n",
    "\n",
    "\n",
    "divideFunc()\n"
   ]
  },
  {
   "cell_type": "code",
   "execution_count": 9,
   "metadata": {},
   "outputs": [
    {
     "name": "stdout",
     "output_type": "stream",
     "text": [
      "Americans play Baseball\n",
      "Americans play cricket\n",
      "Americans watch Baseball\n",
      "Americans watch cricket\n",
      "Indians play Baseball\n",
      "Indians play cricket\n",
      "Indians watch Baseball\n",
      "Indians watch cricket\n"
     ]
    }
   ],
   "source": [
    "# 2. Implement a Python program to generate all sentences where subject is in [\"Americans\",\n",
    "# \"Indians\"] and verb is in [\"Play\", \"watch\"] and the object is in [\"Baseball\",\"cricket\"].\n",
    "#\n",
    "# Hint: Subject,Verb and Object should be declared in the program as shown below.\n",
    "# subjects=[\"Americans \",\"Indians\"]\n",
    "# verbs=[\"play\",\"watch\"]\n",
    "# objects=[\"Baseball\",\"Cricket\"]\n",
    "# Output should come as below:\n",
    "# Americans play Baseball.\n",
    "# Americans play Cricket.\n",
    "# Americans watch Baseball.\n",
    "# Americans watch Cricket.\n",
    "# Indians play Baseball.\n",
    "# Indians play Cricket.\n",
    "# Indians watch Baseball.\n",
    "# Indians watch Cricket.\n",
    "\n",
    "def generateSentences():\n",
    "    subject = [\"Americans\",\"Indians\"]\n",
    "    verb = [\"play\", \"watch\"]\n",
    "    object = [\"Baseball\",\"cricket\"]\n",
    "    lenSub = len(subject)\n",
    "    lenVerb = len(verb)\n",
    "    lenObject = len(object)\n",
    "    i = 0\n",
    "    j = 0\n",
    "    k = 0\n",
    "    while i < lenSub:\n",
    "        #print(i)\n",
    "        while j < lenVerb:\n",
    "            #print(j)\n",
    "            while k < lenObject:\n",
    "                print(subject[i],verb[j],object[k])\n",
    "                k=k+1\n",
    "            j=j+1\n",
    "            k=0 \n",
    "        i = i+1\n",
    "        j=0\n",
    "\n",
    "generateSentences()"
   ]
  },
  {
   "cell_type": "code",
   "execution_count": null,
   "metadata": {
    "collapsed": true
   },
   "outputs": [],
   "source": [
    "\n"
   ]
  }
 ],
 "metadata": {
  "kernelspec": {
   "display_name": "Python 3",
   "language": "python",
   "name": "python3"
  },
  "language_info": {
   "codemirror_mode": {
    "name": "ipython",
    "version": 3
   },
   "file_extension": ".py",
   "mimetype": "text/x-python",
   "name": "python",
   "nbconvert_exporter": "python",
   "pygments_lexer": "ipython3",
   "version": "3.6.3"
  }
 },
 "nbformat": 4,
 "nbformat_minor": 2
}
